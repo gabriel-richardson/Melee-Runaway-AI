{
 "cells": [
  {
   "cell_type": "markdown",
   "metadata": {},
   "source": [
    "**Abstract**: \n",
    "\n",
    "In this exercise, I attempted to create an artificial intelligence (AI) for the game Super Smash Bros. Melee that would run away from its opponent. The AI's decision making process is controlled by a neural network which is trained using Distributed Evolutionary Algorithms in Python (DEAP). Over 100 generations, the average fitness of each agent saw some improvements, but I was not able to obtain the kind of results I wanted. This is likely due to time constraints, and given more training, the neural network should produce the desired results.\n",
    "\n",
    "**Introduction**:\n",
    "\n",
    "I attempted to create an AI for Super Smash Bros. Melee, a crossover fighting game. The AI uses a neural network to make decisions, and is trained with evolutionary algorithms to maximize the distance between itself and its opponent. Because the game has floating stages, players can fall to their demise. Thus, the AI is also incentivized to remain on stage.\n",
    "\n",
    "\n",
    "This project was inspired by a much more complex Melee AI which uses deep reinforcement learning to train a fully capable fighting AI [1]. The AI I created has a much simpler task: Maximize the distance between itself and its opponent without dying. The AI uses an artificial neural network for a brain [1], and it is trained over several generations using evolutionary algorithms in DEAP [3]. In this report I will discuss the methodology I used in depth, the results I obtained, and some possible improvements I could implement to improve my solution to the problem.\n",
    "\n",
    "**Methodology**:\n",
    "\n",
    "The ANN I used for the agents' brains has four input nodes: A bias, the distance between the AI and its opponent, the distance between the AI and the edge of the stage, and the distance between the opponent and the edge of the stage. The network has one hidden layer consisting of a bias and three hidden nodes. The output layer has three nodes each controlling the agent's movement, One to the left, one to the right, and one to jump. This gives 24 weights, 12 between the input layer and the hidden layer, and 12 between the hidden layer and the output layer. Every 900 frames, the current ANN is replaced with the next ANN in the population for training. The ANN is trained using GA/EA in DEAP. It uses tournament selection with a tournament size of 3 to select individuals. The algorithm applies uniform crossover with a 50% crossover probability and gaussian mutation with 20% probability per individual and 5% probability per genome in each selected individual. Due to time constraints, I was only able to train the neural network once, for 100 generations. I measured the average fitness of each generation to see how the agents were improving.\n",
    "\n",
    "\n",
    "**Results and Discussions**:\n",
    "\n",
    "<img src=\"Figure_1.png\">\n",
    "\n",
    "**Conclusions**:\n",
    "\n",
    "In conclusion, the method I used of combining artificial neural networks and evolutionary algorithms through DEAP showed noticeable improvements for the average agent fitness value over 100 generations. However, I was not able to find the results I wanted as many agents were still prone to jumping off of the stage. Perhaps with more training this can be resolved. I plan on improving the training speed by making use of the two extra character ports that went unused due to time constraints. If the program is run on a computer with a better processor, multiple emulators can run at the same time, which would greatly improve the training speed.\n",
    "\n",
    "**References**:\n",
    "[1] Firoiu, Whitney, Tenenbaum, Beating the World's Best at Super Smash Bros. with Deep Reinforcement Learning, 7, 2016.\n",
    "[2] Heaton, Artificial Intelligence for Humans, 2013.\n",
    "[3] Rainville, Fortin, Gardner, Parizeau, Gagne, DEAP: A Python Framework for Evolutionary Algorithms, 8, 2012.\n",
    "\n",
    "**THANK YOU**"
   ]
  },
  {
   "cell_type": "code",
   "execution_count": null,
   "metadata": {
    "collapsed": true
   },
   "outputs": [],
   "source": []
  }
 ],
 "metadata": {
  "kernelspec": {
   "display_name": "Python 3",
   "language": "python",
   "name": "python3"
  },
  "language_info": {
   "codemirror_mode": {
    "name": "ipython",
    "version": 3
   },
   "file_extension": ".py",
   "mimetype": "text/x-python",
   "name": "python",
   "nbconvert_exporter": "python",
   "pygments_lexer": "ipython3",
   "version": "3.4.3"
  }
 },
 "nbformat": 4,
 "nbformat_minor": 1
}
