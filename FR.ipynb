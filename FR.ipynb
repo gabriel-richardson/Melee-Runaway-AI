{
 "cells": [
  {
   "cell_type": "markdown",
   "metadata": {},
   "source": [
    "## FINAL REPORT (FR)\n",
    "\n",
    "## Due 30 April 2016 (Sunday, 11:59pm)\n",
    "\n",
    "**Important Note:** Before uploading your midterm project on Canvas, please name your file as following:\n",
    "\n",
    "*MT#_FirstLastName.ipynb*\n",
    "\n",
    "where \"#\" denotes the midterm number, \"FirstLastName\" is the name of the student. Students are allowed to work in groups (2 or max. of 3 students). **Each student will hand in their own file**. If you work with another student, please write her/his name on top of the first cell (in a Markdown cell)."
   ]
  },
  {
   "cell_type": "markdown",
   "metadata": {},
   "source": [
    "**Question (28 points): CHOOSE YOUR OWN COMPUTATIONAL INTELLIGENCE APPLICATION**\n",
    "\n",
    "In this last exercise, you will choose your own CI application from one of the following main applications (Surrogate-based optimization can be coupled with the other two):\n",
    "\n",
    "* Game AI\n",
    "* 3D Printing\n",
    "* Surrogate-based Optimization\n",
    "\n",
    "You are already familiar with Game AI and 3D printing applications. You can get some ideas about the surrogate-based optimization from the following three papers (you can download them from [UT library](http://www.lib.utexas.edu/) with your EID):\n",
    "\n",
    "* Y. Jin, [A comprehensive survey of fitness approximation in evolutionary computation](http://link.springer.com/article/10.1007%2Fs00500-003-0328-5), Soft Computing, Vol:9, Issue:1, 2005.\n",
    "* A.I.J. Forrester, A.J. Keane, [Recent advances in surrogate-based optimization](http://www.sciencedirect.com/science/article/pii/S0376042108000766), Progress in Aerospace Sciences, Vol:45, 50-79, 2009.\n",
    "* Y. Jin, [Surrogate-assisted evolutionary computation: Recent advances and future challenges](http://www.sciencedirect.com/science/article/pii/S2210650211000198), Swarm and Evolutionary Computation, 61-70, 2011.\n",
    "\n",
    "One of the recent papers that we worked on can be found in this [link](https://docs.google.com/viewer?a=v&pid=sites&srcid=ZGVmYXVsdGRvbWFpbnxjZW1jdHV0dW18Z3g6MmVmY2Q1YjA0ZWVjNzE3MQ).\n",
    "\n",
    "Some other interesting projects could be, but **not limited to**:\n",
    "\n",
    "* Evolutionary multi-objective optimization (EMO) and its applications in games or 3D printing\n",
    "* Evolutionary Many-objective optimization\n",
    "* Use of different evolutionary algorithms: Genetic Programming, Evolution Strategies, Particle Swarm Optimization, Differential Evolution, CMA-ES, Estimation of Distribution Algorithms, etc. (most of these algorithms are avilable in DEAP)\n",
    "* Approximation of 3D objects with cubes, spheres or any base hypercubes using evolutionary algorithms (needs integration of DEAP with OpenSCAD or programming an EA in OpenSCAD)\n",
    "* Designing a 2D car with EAs to finish a given track in shorted amount of time (requires a physics engine)\n",
    "* 3D printable walking or jumping objects (requires a physics engine)\n",
    "* Designing 3D printable accessories using EAs (aesthetic measure is needed for the fitness calculation)\n",
    "* Surrogate-based optimization using a physical simulation or analytical engineering design problem.\n",
    "* Surrogate-based EMO.\n",
    "* Surrogate-based optimization in high-dimensional search space (more than 15 or 20 dimensions).\n",
    "* Robust optimization -- Optimization under uncertainties. For instance, you can investigate the variablity in 3D printing of gears and how to incorporate these variances while designing a reliable gear mechanism\n",
    "* 3D printable lamp design --incorporating variable wall thickness (to control translucency). It may require a physics engine.\n",
    "\n",
    "**IMPORTANT NOTES:** \n",
    "\n",
    "* You can discuss your final project with your friends or mentors, but you have to discuss about it with the instructor before working on it.\n",
    "* Prepare your report in the following format.\n",
    "* Write your report below this cell, not as part of the explanations of format or content.\n",
    "\n",
    "**////////////////////////////////////////////////////////////////**\n",
    "\n",
    "**FORMAT OF THE REPORT:**\n",
    "\n",
    "\n",
    "**Abstract**: \n",
    "\n",
    "In this exercise, I attempted to create an artificial intelligence (AI) for the game Super Smash Bros. Melee that would run away from its opponent. The AI's decision making process is controlled by a neural network which is trained using Distributed Evolutionary Algorithms in Python (DEAP). Over 100 generations, the average fitness of each agent saw some improvements, but I was not able to obtain the kind of results I wanted. This is likely due to time constraints, and given more training, the neural network should produce the desired results.\n",
    "\n",
    "**Introduction**:\n",
    "\n",
    "I attempted to create an AI for Super Smash Bros. Melee, a crossover fighting game. The AI uses a neural network to make decisions, and is trained with evolutionary algorithms to maximize the distance between itself and its opponent. Because the game has floating stages, players can fall to their demise. Thus, the AI is also incentivized to remain on stage.\n",
    "\n",
    "\n",
    "This project was inspired by a much more complex Melee AI which uses deep reinforcement learning to train a fully capable fighting AI [1]. The AI I created has a much simpler task: Maximize the distance between itself and its opponent without dying. The AI uses an artificial neural network for a brain [1], and it is trained over several generations using evolutionary algorithms in DEAP [3]. In this report I will discuss the methodology I used in depth, the results I obtained, and some possible improvements I could implement to improve my solution to the problem.\n",
    "\n",
    "**Methodology**:\n",
    "\n",
    "The ANN I used for the agents' brains has four input nodes: A bias, the distance between the AI and its opponent, the distance between the AI and the edge of the stage, and the distance between the opponent and the edge of the stage. The network has one hidden layer consisting of a bias and three hidden nodes. The output layer has three nodes each controlling the agent's movement, One to the left, one to the right, and one to jump. This gives 24 weights, 12 between the input layer and the hidden layer, and 12 between the hidden layer and the output layer. Every 900 frames, the current ANN is replaced with the next ANN in the population for training. The ANN is trained using GA/EA in DEAP. It uses tournament selection with a tournament size of 3 to select individuals. The algorithm applies uniform crossover with a 50% crossover probability and gaussian mutation with 20% probability per individual and 5% probability per genome in each selected individual. Due to time constraints, I was only able to train the neural network once, for 100 generations. I measured the average fitness of each generation to see how the agents were improving.\n",
    "\n",
    "\n",
    "**Results and Discussions**:\n",
    "\n",
    "<img src=\"Figure_1.png\">\n",
    "\n",
    "**Conclusions**:\n",
    "\n",
    "In conclusion, the method I used of combining artificial neural networks and evolutionary algorithms through DEAP showed noticeable improvements for the average agent fitness value over 100 generations. However, I was not able to find the results I wanted as many agents were still prone to jumping off of the stage. Perhaps with more training this can be resolved. I plan on improving the training speed by making use of the two extra character ports that went unused due to time constraints. If the program is run on a computer with a better processor, multiple emulators can run at the same time, which would greatly improve the training speed.\n",
    "\n",
    "**References**:\n",
    "[1] Firoiu, Whitney, Tenenbaum, Beating the World's Best at Super Smash Bros. with Deep Reinforcement Learning, 7, 2016.\n",
    "[2] Heaton, Artificial Intelligence for Humans, 2013.\n",
    "[3] Rainville, Fortin, Gardner, Parizeau, Gagne, DEAP: A Python Framework for Evolutionary Algorithms, 8, 2012.\n",
    "\n",
    "**THANK YOU**"
   ]
  },
  {
   "cell_type": "code",
   "execution_count": null,
   "metadata": {
    "collapsed": true
   },
   "outputs": [],
   "source": []
  }
 ],
 "metadata": {
  "kernelspec": {
   "display_name": "Python 3",
   "language": "python",
   "name": "python3"
  },
  "language_info": {
   "codemirror_mode": {
    "name": "ipython",
    "version": 3
   },
   "file_extension": ".py",
   "mimetype": "text/x-python",
   "name": "python",
   "nbconvert_exporter": "python",
   "pygments_lexer": "ipython3",
   "version": "3.4.3"
  }
 },
 "nbformat": 4,
 "nbformat_minor": 1
}
